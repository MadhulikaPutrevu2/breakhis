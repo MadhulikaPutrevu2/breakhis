{
  "nbformat": 4,
  "nbformat_minor": 0,
  "metadata": {
    "colab": {
      "name": "RESNET50BREAKHIS.ipynb",
      "provenance": [],
      "include_colab_link": true
    },
    "kernelspec": {
      "name": "python3",
      "display_name": "Python 3"
    }
  },
  "cells": [
    {
      "cell_type": "markdown",
      "metadata": {
        "id": "view-in-github",
        "colab_type": "text"
      },
      "source": [
        "<a href=\"https://colab.research.google.com/github/MadhulikaPutrevu2/breakhis/blob/master/RESNET50BREAKHIS.ipynb\" target=\"_parent\"><img src=\"https://colab.research.google.com/assets/colab-badge.svg\" alt=\"Open In Colab\"/></a>"
      ]
    },
    {
      "cell_type": "code",
      "metadata": {
        "id": "LpixLvFtqV7b",
        "colab": {
          "base_uri": "https://localhost:8080/"
        },
        "outputId": "b2bd2600-0a02-42c7-9438-4465aeb11eb6"
      },
      "source": [
        "!pip install q keras==2.3.1"
      ],
      "execution_count": null,
      "outputs": [
        {
          "output_type": "stream",
          "name": "stdout",
          "text": [
            "Collecting q\n",
            "  Downloading q-2.6-py2.py3-none-any.whl (6.8 kB)\n",
            "Collecting keras==2.3.1\n",
            "  Downloading Keras-2.3.1-py2.py3-none-any.whl (377 kB)\n",
            "\u001b[K     |████████████████████████████████| 377 kB 13.7 MB/s \n",
            "\u001b[?25hCollecting keras-applications>=1.0.6\n",
            "  Downloading Keras_Applications-1.0.8-py3-none-any.whl (50 kB)\n",
            "\u001b[K     |████████████████████████████████| 50 kB 5.1 MB/s \n",
            "\u001b[?25hRequirement already satisfied: h5py in /usr/local/lib/python3.7/dist-packages (from keras==2.3.1) (3.1.0)\n",
            "Requirement already satisfied: pyyaml in /usr/local/lib/python3.7/dist-packages (from keras==2.3.1) (3.13)\n",
            "Requirement already satisfied: keras-preprocessing>=1.0.5 in /usr/local/lib/python3.7/dist-packages (from keras==2.3.1) (1.1.2)\n",
            "Requirement already satisfied: numpy>=1.9.1 in /usr/local/lib/python3.7/dist-packages (from keras==2.3.1) (1.19.5)\n",
            "Requirement already satisfied: scipy>=0.14 in /usr/local/lib/python3.7/dist-packages (from keras==2.3.1) (1.4.1)\n",
            "Requirement already satisfied: six>=1.9.0 in /usr/local/lib/python3.7/dist-packages (from keras==2.3.1) (1.15.0)\n",
            "Requirement already satisfied: cached-property in /usr/local/lib/python3.7/dist-packages (from h5py->keras==2.3.1) (1.5.2)\n",
            "Installing collected packages: keras-applications, q, keras\n",
            "  Attempting uninstall: keras\n",
            "    Found existing installation: keras 2.6.0\n",
            "    Uninstalling keras-2.6.0:\n",
            "      Successfully uninstalled keras-2.6.0\n",
            "\u001b[31mERROR: pip's dependency resolver does not currently take into account all the packages that are installed. This behaviour is the source of the following dependency conflicts.\n",
            "tensorflow 2.6.0 requires keras~=2.6, but you have keras 2.3.1 which is incompatible.\u001b[0m\n",
            "Successfully installed keras-2.3.1 keras-applications-1.0.8 q-2.6\n"
          ]
        }
      ]
    },
    {
      "cell_type": "markdown",
      "metadata": {
        "id": "E8TkdKIyiPgh"
      },
      "source": [
        ""
      ]
    },
    {
      "cell_type": "code",
      "metadata": {
        "id": "oeTsYFuyWhP2",
        "colab": {
          "base_uri": "https://localhost:8080/"
        },
        "outputId": "599ff46f-7a08-49a0-829d-13a1f9732dfe"
      },
      "source": [
        "%tensorflow_version 2.0"
      ],
      "execution_count": null,
      "outputs": [
        {
          "output_type": "stream",
          "text": [
            "`%tensorflow_version` only switches the major version: 1.x or 2.x.\n",
            "You set: `2.0`. This will be interpreted as: `2.x`.\n",
            "\n",
            "\n",
            "TensorFlow 2.x selected.\n"
          ],
          "name": "stdout"
        }
      ]
    },
    {
      "cell_type": "code",
      "metadata": {
        "id": "NiO36nkyWi9f",
        "colab": {
          "base_uri": "https://localhost:8080/"
        },
        "outputId": "62246bc8-8c1c-4489-9e39-436c4b404a73"
      },
      "source": [
        "import tensorflow as tf\n",
        "from tensorflow import keras\n",
        "import keras_applications\n",
        "import keras.backend as K\n",
        "from keras.preprocessing.image import ImageDataGenerator\n",
        "from keras.optimizers import Adamax, SGD, RMSprop\n",
        "from keras.layers import Flatten, Input, Dense, Activation, Dropout, Conv2D, MaxPooling2D, BatchNormalization, GlobalAveragePooling2D\n",
        "from keras.models import Model\n",
        "from keras.applications import ResNet50\n",
        "from keras.layers.core import Dropout, Dense\n",
        "from keras.callbacks import EarlyStopping\n",
        "from keras.models import Model, load_model\n",
        "from keras.initializers import he_normal, glorot_normal\n",
        "from keras import optimizers\n",
        "from keras.regularizers import l2\n",
        "import os\n",
        "import numpy as np\n",
        "import matplotlib.pyplot as plt"
      ],
      "execution_count": null,
      "outputs": [
        {
          "output_type": "stream",
          "text": [
            "Using TensorFlow backend.\n"
          ],
          "name": "stderr"
        }
      ]
    },
    {
      "cell_type": "code",
      "metadata": {
        "id": "6LR7DbBjYxCQ"
      },
      "source": [
        "!pip install -U -q PyDrive\n",
        "from pydrive.auth import GoogleAuth\n",
        "from pydrive.drive import GoogleDrive\n",
        "from google.colab import auth\n",
        "from oauth2client.client import GoogleCredentials"
      ],
      "execution_count": null,
      "outputs": []
    },
    {
      "cell_type": "code",
      "metadata": {
        "id": "h9nhgjEJY3Ul"
      },
      "source": [
        "auth.authenticate_user()\n",
        "gauth = GoogleAuth()\n",
        "gauth.credentials = GoogleCredentials.get_application_default()\n",
        "drive = GoogleDrive(gauth)"
      ],
      "execution_count": null,
      "outputs": []
    },
    {
      "cell_type": "code",
      "metadata": {
        "id": "rDMEF8JhZAQI"
      },
      "source": [
        "fid = drive.ListFile({'q':\"title='Data.zip'\"}).GetList()[0]['id']\n",
        "f = drive.CreateFile({'id': fid})\n",
        "f.GetContentFile('Data.zip')"
      ],
      "execution_count": null,
      "outputs": []
    },
    {
      "cell_type": "code",
      "metadata": {
        "id": "mNJRorEzkjiK"
      },
      "source": [
        "f.keys()"
      ],
      "execution_count": null,
      "outputs": []
    },
    {
      "cell_type": "code",
      "metadata": {
        "id": "AavNapGsZD8N"
      },
      "source": [
        "!unzip Data.zip\n"
      ],
      "execution_count": null,
      "outputs": []
    },
    {
      "cell_type": "code",
      "metadata": {
        "id": "IzA2n2DCZosb"
      },
      "source": [
        "PATH = '/content/Data'"
      ],
      "execution_count": null,
      "outputs": []
    },
    {
      "cell_type": "code",
      "metadata": {
        "id": "3CryvuR0ZqGA"
      },
      "source": [
        "os.listdir(PATH)"
      ],
      "execution_count": null,
      "outputs": []
    },
    {
      "cell_type": "code",
      "metadata": {
        "id": "MNzuaPdkZtY2"
      },
      "source": [
        "train_dir = os.path.join(PATH,\n",
        "                         'train')\n",
        "test_dir = os.path.join(PATH,\n",
        "                        'validation')"
      ],
      "execution_count": null,
      "outputs": []
    },
    {
      "cell_type": "code",
      "metadata": {
        "id": "8Zr7y4J2ZxR9"
      },
      "source": [
        "train_benign_dir = os.path.join(train_dir,\n",
        "                                'Benign')\n",
        "train_malignant_dir = os.path.join(train_dir,\n",
        "                                   'Malignant')\n",
        "\n",
        "test_benign_dir = os.path.join(test_dir,\n",
        "                               'benign')\n",
        "test_malignant_dir = os.path.join(test_dir,\n",
        "                                  'malignant')\n"
      ],
      "execution_count": null,
      "outputs": []
    },
    {
      "cell_type": "code",
      "metadata": {
        "id": "f1k5ahaPZ2uU"
      },
      "source": [
        "len(os.listdir(train_benign_dir))"
      ],
      "execution_count": null,
      "outputs": []
    },
    {
      "cell_type": "code",
      "metadata": {
        "id": "gUMkTiV1Z6nF"
      },
      "source": [
        "len(os.listdir(test_benign_dir))"
      ],
      "execution_count": null,
      "outputs": []
    },
    {
      "cell_type": "code",
      "metadata": {
        "id": "UaSW5vldZ96M"
      },
      "source": [
        "IMG_HEIGHT = 212\n",
        "IMG_WIDTH = 212\n",
        "batch_size = 32\n",
        "output_classes = 2"
      ],
      "execution_count": null,
      "outputs": []
    },
    {
      "cell_type": "code",
      "metadata": {
        "id": "vYXhl7bOaCEM"
      },
      "source": [
        "image_gen = ImageDataGenerator(\n",
        "    rescale=1./255\n",
        "    )"
      ],
      "execution_count": null,
      "outputs": []
    },
    {
      "cell_type": "code",
      "metadata": {
        "id": "lwy9MbL9aE2O"
      },
      "source": [
        "train_data_gen = image_gen.flow_from_directory(\n",
        "    #batch_size=batch_size,\n",
        "    directory=train_dir,\n",
        "    shuffle=True,\n",
        "    target_size=(IMG_HEIGHT, IMG_WIDTH),\n",
        "    class_mode='categorical')"
      ],
      "execution_count": null,
      "outputs": []
    },
    {
      "cell_type": "code",
      "metadata": {
        "id": "8fJUkQtMaQ_v"
      },
      "source": [
        "test_data_gen = image_gen.flow_from_directory(\n",
        "    #batch_size=batch_size,\n",
        "    directory=test_dir,\n",
        "    target_size=(IMG_HEIGHT, IMG_WIDTH),\n",
        "    class_mode='categorical')"
      ],
      "execution_count": null,
      "outputs": []
    },
    {
      "cell_type": "code",
      "metadata": {
        "id": "4EW-AnakaWTL"
      },
      "source": [
        "sample_training_images, _ = next(train_data_gen)"
      ],
      "execution_count": null,
      "outputs": []
    },
    {
      "cell_type": "code",
      "metadata": {
        "id": "d-OYnWN2aaxd"
      },
      "source": [
        "# This function will plot images in the form of a grid with 1 row and 5 columns where images are placed in each column.\n",
        "def plotImages(images_arr):\n",
        "    fig, axes = plt.subplots(3, 3, figsize=(10,10))\n",
        "    axes = axes.flatten()\n",
        "    for img, ax in zip( images_arr, axes):\n",
        "        ax.imshow(img)\n",
        "        ax.axis('off')\n",
        "    plt.tight_layout()\n",
        "    plt.show()"
      ],
      "execution_count": null,
      "outputs": []
    },
    {
      "cell_type": "code",
      "metadata": {
        "id": "o-NZQmDAajXY"
      },
      "source": [
        "plotImages(sample_training_images[:9])"
      ],
      "execution_count": null,
      "outputs": []
    },
    {
      "cell_type": "code",
      "metadata": {
        "id": "rQ55_nfhazwi"
      },
      "source": [
        "input_shape = (IMG_HEIGHT,IMG_WIDTH,3)\n",
        "base_model = ResNet50(weights='imagenet', include_top=False, pooling = 'avg', input_tensor=Input(shape=input_shape))\n",
        "x = base_model.output\n",
        "# x = GlobalAveragePooling2D()(x)\n",
        "x = Dense(1024, kernel_regularizer=l2(0.0001), bias_regularizer=l2(0.0001))(x)\n",
        "x = BatchNormalization()(x)\n",
        "x = Activation(\"relu\")(x)\n",
        "x = Dropout(0.5)(x)\n",
        "x = Dense(1024, kernel_regularizer=l2(0.0001), bias_regularizer=l2(0.0001))(x)\n",
        "x = BatchNormalization()(x)\n",
        "x = Activation(\"relu\")(x)\n",
        "x = Dropout(0.5)(x)\n",
        "prediction = Dense(output_classes, activation=tf.nn.softmax)(x)\n",
        "model = Model(inputs=base_model.input,outputs=prediction)"
      ],
      "execution_count": null,
      "outputs": []
    },
    {
      "cell_type": "code",
      "metadata": {
        "id": "2IbIqYBab586"
      },
      "source": [
        "adamax_opt=Adamax(lr = 0.001)\n",
        "sgd_opt = SGD(lr=1e-06, momentum=0.0, decay=0.0, nesterov=False)\n",
        "rmsp_opt = RMSprop(lr=1e-04)\n",
        "\n",
        "model.compile(optimizer= adamax_opt, loss = 'binary_crossentropy', metrics=['accuracy'])"
      ],
      "execution_count": null,
      "outputs": []
    },
    {
      "cell_type": "code",
      "metadata": {
        "id": "KIiM4S5scNgD"
      },
      "source": [
        "model.summary()"
      ],
      "execution_count": null,
      "outputs": []
    },
    {
      "cell_type": "code",
      "metadata": {
        "id": "Wb4LT2EvczJj"
      },
      "source": [
        "batch_size = 32\n",
        "epochs = 10"
      ],
      "execution_count": null,
      "outputs": []
    },
    {
      "cell_type": "code",
      "metadata": {
        "id": "wm83jibwnFHO"
      },
      "source": [
        "num_benign_train = len(os.listdir(train_benign_dir))\n",
        "num_malignant_train = len(os.listdir(train_malignant_dir))\n",
        "\n",
        "\n",
        "num_benign_test = len(os.listdir(test_benign_dir))\n",
        "num_malignant_test = len(os.listdir(test_malignant_dir))\n",
        "\n",
        "\n",
        "total_train = num_benign_train + num_malignant_train \n",
        "total_test = num_benign_test + num_malignant_test "
      ],
      "execution_count": null,
      "outputs": []
    },
    {
      "cell_type": "code",
      "metadata": {
        "id": "TpqGGMYdcC7n"
      },
      "source": [
        "history = model.fit(\n",
        "    train_data_gen,\n",
        "    steps_per_epoch=total_train // batch_size,\n",
        "    epochs=epochs,\n",
        "    validation_data=test_data_gen,\n",
        "    validation_steps=total_test // batch_size,\n",
        "    callbacks = [tf.keras.callbacks.EarlyStopping(\n",
        "        monitor='val_loss',\n",
        "        min_delta=0.001,\n",
        "        patience = 5\n",
        "        )]\n",
        "    \n",
        ")\n"
      ],
      "execution_count": null,
      "outputs": []
    },
    {
      "cell_type": "code",
      "metadata": {
        "id": "ND65GH686zpJ"
      },
      "source": [
        "import plotly.graph_objects as go\n",
        "fig = go.Figure()\n",
        "\n",
        "fig.add_trace(go.Scatter(x=history.epoch,\n",
        "                         y=history.history['accuracy'],\n",
        "                         mode='lines+markers',\n",
        "                         name='Training accuracy'))\n",
        "fig.add_trace(go.Scatter(x=history.epoch,\n",
        "                         y=history.history['val_accuracy'],\n",
        "                         mode='lines+markers',\n",
        "                         name='Validation accuracy'))\n",
        "fig.update_layout(title='Accuracy',\n",
        "                  xaxis=dict(title='Epoch'),\n",
        "                  yaxis=dict(title='Percentage'))\n",
        "fig.show()"
      ],
      "execution_count": null,
      "outputs": []
    },
    {
      "cell_type": "code",
      "metadata": {
        "id": "3dwVV6qo7A0G"
      },
      "source": [
        "import matplotlib.pyplot as plt\n",
        "plt.plot(model.history.history['accuracy'])\n",
        "plt.plot(model.history.history['val_accuracy'])\n",
        "plt.title(\"Accuracy\")\n",
        "plt.ylabel(\"accuracy\")\n",
        "plt.xlabel(\"epoch\")\n",
        "plt.ylim(-0.25,1.00)\n",
        "plt.legend(['train', 'test'], loc='upper left')\n",
        "plt.show()"
      ],
      "execution_count": null,
      "outputs": []
    },
    {
      "cell_type": "code",
      "metadata": {
        "id": "kplrAeo17GoM"
      },
      "source": [
        "plt.plot(model.history.history['loss'])\n",
        "plt.plot(model.history.history['val_loss'])\n",
        "plt.title(\"Loss\")\n",
        "plt.ylabel(\"loss\")\n",
        "plt.xlabel(\"epoch\")\n",
        "plt.legend(['train', 'test'], loc='upper left')\n",
        "plt.show()"
      ],
      "execution_count": null,
      "outputs": []
    },
    {
      "cell_type": "code",
      "metadata": {
        "id": "tucbKKpf7L_X"
      },
      "source": [
        "score = model.evaluate(test_data_gen, steps=50)\n",
        "\n",
        "print ('Validation Score: ', score[0])\n",
        "print ('Validation Accuracy: ',score[1])"
      ],
      "execution_count": null,
      "outputs": []
    }
  ]
}